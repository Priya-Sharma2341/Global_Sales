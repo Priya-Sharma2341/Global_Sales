{
 "cells": [
  {
   "cell_type": "code",
   "execution_count": 1,
   "id": "b04de1bd",
   "metadata": {},
   "outputs": [],
   "source": [
    "import pandas as pd\n",
    "import numpy as np\n",
    "import seaborn as sns\n",
    "import os\n",
    "import matplotlib.pyplot as plt\n",
    "from statsmodels.stats.outliers_influence import variance_inflation_factor\n",
    "from statsmodels.api import add_constant\n",
    "from sklearn.preprocessing import StandardScaler\n",
    "from sklearn.model_selection import train_test_split,GridSearchCV\n",
    "from matplotlib.pyplot import figure\n",
    "from sklearn.ensemble import RandomForestClassifier,RandomForestRegressor\n",
    "from sklearn.tree import DecisionTreeClassifier,DecisionTreeRegressor\n",
    "from sklearn.svm import SVC,SVR\n",
    "from sklearn.model_selection import RandomizedSearchCV\n",
    "from sklearn.metrics import plot_confusion_matrix,classification_report,accuracy_score\n",
    "from sklearn.metrics import mean_absolute_percentage_error as mape\n",
    "from sklearn.metrics import mean_squared_error as rmse\n",
    "%matplotlib inline"
   ]
  },
  {
   "cell_type": "code",
   "execution_count": 2,
   "id": "d1537964",
   "metadata": {},
   "outputs": [],
   "source": [
    "os.chdir(r\"C:\\Users\\Priya Sharma\\OneDrive\\Desktop\\Python Work\\Models by me\")\n",
    "train=pd.read_csv(\"Train.csv\")\n",
    "predictionDf=pd.read_csv(\"Test.csv\")"
   ]
  },
  {
   "cell_type": "code",
   "execution_count": 3,
   "id": "44cfe65b",
   "metadata": {},
   "outputs": [],
   "source": [
    "predictionDf[\"Global_Sales\"]=0"
   ]
  },
  {
   "cell_type": "code",
   "execution_count": 4,
   "id": "169fa322",
   "metadata": {},
   "outputs": [],
   "source": [
    "from sklearn.model_selection import train_test_split\n",
    "trainDf, testDf = train_test_split(train,train_size=0.7,random_state=123)"
   ]
  },
  {
   "cell_type": "code",
   "execution_count": 5,
   "id": "1684491a",
   "metadata": {},
   "outputs": [],
   "source": [
    "trainDf['Source'] = \"Train\"\n",
    "testDf['Source'] = \"Test\"\n",
    "predictionDf['Source'] = \"Prediction\""
   ]
  },
  {
   "cell_type": "code",
   "execution_count": 6,
   "id": "70e438d7",
   "metadata": {},
   "outputs": [],
   "source": [
    "df = pd.concat([trainDf, testDf, predictionDf], axis = 0)"
   ]
  },
  {
   "cell_type": "code",
   "execution_count": 7,
   "id": "45c5cdde",
   "metadata": {},
   "outputs": [],
   "source": [
    "df.drop([\"Publisher\",\"Name\",\"User_Count\"],axis=1,inplace=True)"
   ]
  },
  {
   "cell_type": "code",
   "execution_count": 8,
   "id": "6dc49371",
   "metadata": {},
   "outputs": [
    {
     "data": {
      "text/html": [
       "<div>\n",
       "<style scoped>\n",
       "    .dataframe tbody tr th:only-of-type {\n",
       "        vertical-align: middle;\n",
       "    }\n",
       "\n",
       "    .dataframe tbody tr th {\n",
       "        vertical-align: top;\n",
       "    }\n",
       "\n",
       "    .dataframe thead th {\n",
       "        text-align: right;\n",
       "    }\n",
       "</style>\n",
       "<table border=\"1\" class=\"dataframe\">\n",
       "  <thead>\n",
       "    <tr style=\"text-align: right;\">\n",
       "      <th></th>\n",
       "      <th>Platform</th>\n",
       "      <th>Year_of_Release</th>\n",
       "      <th>Genre</th>\n",
       "      <th>NA_Sales</th>\n",
       "      <th>EU_Sales</th>\n",
       "      <th>JP_Sales</th>\n",
       "      <th>Critic_Score</th>\n",
       "      <th>Critic_Count</th>\n",
       "      <th>User_Score</th>\n",
       "      <th>Developer</th>\n",
       "      <th>Rating</th>\n",
       "      <th>Global_Sales</th>\n",
       "      <th>Source</th>\n",
       "    </tr>\n",
       "  </thead>\n",
       "  <tbody>\n",
       "    <tr>\n",
       "      <th>4313</th>\n",
       "      <td>X360</td>\n",
       "      <td>2008.0</td>\n",
       "      <td>Shooter</td>\n",
       "      <td>0.30</td>\n",
       "      <td>0.11</td>\n",
       "      <td>0.00</td>\n",
       "      <td>69.0</td>\n",
       "      <td>54.0</td>\n",
       "      <td>7.3</td>\n",
       "      <td>Nerve Software</td>\n",
       "      <td>T</td>\n",
       "      <td>0.45</td>\n",
       "      <td>Train</td>\n",
       "    </tr>\n",
       "    <tr>\n",
       "      <th>2323</th>\n",
       "      <td>GBA</td>\n",
       "      <td>2001.0</td>\n",
       "      <td>Platform</td>\n",
       "      <td>0.60</td>\n",
       "      <td>0.22</td>\n",
       "      <td>0.05</td>\n",
       "      <td>91.0</td>\n",
       "      <td>22.0</td>\n",
       "      <td>8.5</td>\n",
       "      <td>KCEK</td>\n",
       "      <td>T</td>\n",
       "      <td>0.89</td>\n",
       "      <td>Train</td>\n",
       "    </tr>\n",
       "    <tr>\n",
       "      <th>3493</th>\n",
       "      <td>PSP</td>\n",
       "      <td>2005.0</td>\n",
       "      <td>Racing</td>\n",
       "      <td>0.53</td>\n",
       "      <td>0.00</td>\n",
       "      <td>0.00</td>\n",
       "      <td>63.0</td>\n",
       "      <td>32.0</td>\n",
       "      <td>7.8</td>\n",
       "      <td>Climax Group</td>\n",
       "      <td>E</td>\n",
       "      <td>0.57</td>\n",
       "      <td>Train</td>\n",
       "    </tr>\n",
       "    <tr>\n",
       "      <th>2238</th>\n",
       "      <td>PC</td>\n",
       "      <td>2012.0</td>\n",
       "      <td>Shooter</td>\n",
       "      <td>0.42</td>\n",
       "      <td>0.41</td>\n",
       "      <td>0.00</td>\n",
       "      <td>89.0</td>\n",
       "      <td>38.0</td>\n",
       "      <td>8.2</td>\n",
       "      <td>Gearbox Software</td>\n",
       "      <td>M</td>\n",
       "      <td>0.93</td>\n",
       "      <td>Train</td>\n",
       "    </tr>\n",
       "    <tr>\n",
       "      <th>6756</th>\n",
       "      <td>Wii</td>\n",
       "      <td>2010.0</td>\n",
       "      <td>Action</td>\n",
       "      <td>0.20</td>\n",
       "      <td>0.02</td>\n",
       "      <td>0.00</td>\n",
       "      <td>62.0</td>\n",
       "      <td>7.0</td>\n",
       "      <td>tbd</td>\n",
       "      <td>EA Bright Light</td>\n",
       "      <td>E</td>\n",
       "      <td>0.25</td>\n",
       "      <td>Train</td>\n",
       "    </tr>\n",
       "  </tbody>\n",
       "</table>\n",
       "</div>"
      ],
      "text/plain": [
       "     Platform  Year_of_Release     Genre  NA_Sales  EU_Sales  JP_Sales  \\\n",
       "4313     X360           2008.0   Shooter      0.30      0.11      0.00   \n",
       "2323      GBA           2001.0  Platform      0.60      0.22      0.05   \n",
       "3493      PSP           2005.0    Racing      0.53      0.00      0.00   \n",
       "2238       PC           2012.0   Shooter      0.42      0.41      0.00   \n",
       "6756      Wii           2010.0    Action      0.20      0.02      0.00   \n",
       "\n",
       "      Critic_Score  Critic_Count User_Score         Developer Rating  \\\n",
       "4313          69.0          54.0        7.3    Nerve Software      T   \n",
       "2323          91.0          22.0        8.5              KCEK      T   \n",
       "3493          63.0          32.0        7.8      Climax Group      E   \n",
       "2238          89.0          38.0        8.2  Gearbox Software      M   \n",
       "6756          62.0           7.0        tbd   EA Bright Light      E   \n",
       "\n",
       "      Global_Sales Source  \n",
       "4313          0.45  Train  \n",
       "2323          0.89  Train  \n",
       "3493          0.57  Train  \n",
       "2238          0.93  Train  \n",
       "6756          0.25  Train  "
      ]
     },
     "execution_count": 8,
     "metadata": {},
     "output_type": "execute_result"
    }
   ],
   "source": [
    "df.head()"
   ]
  },
  {
   "cell_type": "code",
   "execution_count": 9,
   "id": "d330b564",
   "metadata": {},
   "outputs": [
    {
     "data": {
      "text/plain": [
       "Index(['Platform', 'Year_of_Release', 'Genre', 'NA_Sales', 'EU_Sales',\n",
       "       'JP_Sales', 'Critic_Score', 'Critic_Count', 'User_Score', 'Developer',\n",
       "       'Rating', 'Global_Sales', 'Source'],\n",
       "      dtype='object')"
      ]
     },
     "execution_count": 9,
     "metadata": {},
     "output_type": "execute_result"
    }
   ],
   "source": [
    "df.columns"
   ]
  },
  {
   "cell_type": "code",
   "execution_count": 10,
   "id": "caabf8b8",
   "metadata": {},
   "outputs": [
    {
     "data": {
      "text/plain": [
       "(16719, 13)"
      ]
     },
     "execution_count": 10,
     "metadata": {},
     "output_type": "execute_result"
    }
   ],
   "source": [
    "df.shape"
   ]
  },
  {
   "cell_type": "code",
   "execution_count": 11,
   "id": "2a14626a",
   "metadata": {},
   "outputs": [
    {
     "data": {
      "text/plain": [
       "Platform              0\n",
       "Year_of_Release     269\n",
       "Genre                 2\n",
       "NA_Sales              0\n",
       "EU_Sales              0\n",
       "JP_Sales              0\n",
       "Critic_Score       8582\n",
       "Critic_Count       8582\n",
       "User_Score         6704\n",
       "Developer          6623\n",
       "Rating             6769\n",
       "Global_Sales          0\n",
       "Source                0\n",
       "dtype: int64"
      ]
     },
     "execution_count": 11,
     "metadata": {},
     "output_type": "execute_result"
    }
   ],
   "source": [
    "df.isnull().sum()"
   ]
  },
  {
   "cell_type": "code",
   "execution_count": 12,
   "id": "5f3dd835",
   "metadata": {},
   "outputs": [],
   "source": [
    "for i in df.columns:\n",
    "    if (i!=\"Global_Sales\" and i!=\"Source\"):\n",
    "        if df[i].dtype==\"object\":\n",
    "            tempMode=df.loc[df[\"Source\"]==\"Train\",i].mode()[0]\n",
    "            df[i].fillna(tempMode,inplace=True)\n",
    "        else:\n",
    "            tempMed=df.loc[df[\"Source\"]==\"Train\",i].median()\n",
    "            df[i].fillna(tempMed,inplace=True)\n"
   ]
  },
  {
   "cell_type": "code",
   "execution_count": 13,
   "id": "22b7e6f1",
   "metadata": {},
   "outputs": [
    {
     "data": {
      "text/plain": [
       "Platform           0\n",
       "Year_of_Release    0\n",
       "Genre              0\n",
       "NA_Sales           0\n",
       "EU_Sales           0\n",
       "JP_Sales           0\n",
       "Critic_Score       0\n",
       "Critic_Count       0\n",
       "User_Score         0\n",
       "Developer          0\n",
       "Rating             0\n",
       "Global_Sales       0\n",
       "Source             0\n",
       "dtype: int64"
      ]
     },
     "execution_count": 13,
     "metadata": {},
     "output_type": "execute_result"
    }
   ],
   "source": [
    "df.isnull().sum()"
   ]
  },
  {
   "cell_type": "code",
   "execution_count": 14,
   "id": "74b8f4db",
   "metadata": {},
   "outputs": [],
   "source": [
    "corrDf = df[df[\"Source\"] == \"Train\"].corr()"
   ]
  },
  {
   "cell_type": "code",
   "execution_count": 15,
   "id": "0ebb437a",
   "metadata": {},
   "outputs": [
    {
     "data": {
      "text/plain": [
       "<AxesSubplot:>"
      ]
     },
     "execution_count": 15,
     "metadata": {},
     "output_type": "execute_result"
    },
    {
     "data": {
      "image/png": "[encoded data removed]",
      "text/plain": [
       "<Figure size 432x288 with 2 Axes>"
      ]
     },
     "metadata": {
      "needs_background": "light"
     },
     "output_type": "display_data"
    }
   ],
   "source": [
    "sns.heatmap(corrDf,xticklabels=corrDf.columns,yticklabels=corrDf.columns, cmap='YlOrBr')"
   ]
  },
  {
   "cell_type": "code",
   "execution_count": 16,
   "id": "cecebf0e",
   "metadata": {},
   "outputs": [],
   "source": [
    "genre_map = {\"Action\":0,\"Sports\":1,\"Misc\":2,\"Role-Playing\":3,\"Shooter\":4,\"Adventure\":5,\"Racing\":6,\"Platform\":8,\"Simulation\":9,\"Fighting\":10,\"Strategy\":11,\"Puzzle\":12}"
   ]
  },
  {
   "cell_type": "code",
   "execution_count": 17,
   "id": "52eda467",
   "metadata": {},
   "outputs": [],
   "source": [
    "df['Genre']= df['Genre'].map(genre_map)"
   ]
  },
  {
   "cell_type": "code",
   "execution_count": 18,
   "id": "959b1324",
   "metadata": {},
   "outputs": [],
   "source": [
    "rating_map = {\"E\":0,\"T\":1,\"M\":2,\"E10+\":3,\"EC\":4,\"K-A\":5,\"RP\":6,\"AO\":7}"
   ]
  },
  {
   "cell_type": "code",
   "execution_count": 19,
   "id": "679f5c05",
   "metadata": {},
   "outputs": [],
   "source": [
    "df['Rating'] = df['Rating'].map(rating_map)"
   ]
  },
  {
   "cell_type": "code",
   "execution_count": 20,
   "id": "d02ceef6",
   "metadata": {},
   "outputs": [],
   "source": [
    "from sklearn.preprocessing import LabelEncoder"
   ]
  },
  {
   "cell_type": "code",
   "execution_count": 21,
   "id": "7fee3c59",
   "metadata": {},
   "outputs": [],
   "source": [
    "labelencoder=LabelEncoder()"
   ]
  },
  {
   "cell_type": "code",
   "execution_count": 22,
   "id": "e793a92c",
   "metadata": {},
   "outputs": [],
   "source": [
    "df[\"Developer\"]=labelencoder.fit_transform(df[\"Developer\"])\n",
    "df[\"User_Score\"]=labelencoder.fit_transform(df[\"User_Score\"])"
   ]
  },
  {
   "cell_type": "code",
   "execution_count": 23,
   "id": "67ba333f",
   "metadata": {},
   "outputs": [
    {
     "data": {
      "text/plain": [
       "Platform            object\n",
       "Year_of_Release    float64\n",
       "Genre                int64\n",
       "NA_Sales           float64\n",
       "EU_Sales           float64\n",
       "JP_Sales           float64\n",
       "Critic_Score       float64\n",
       "Critic_Count       float64\n",
       "User_Score           int32\n",
       "Developer            int32\n",
       "Rating               int64\n",
       "Global_Sales       float64\n",
       "Source              object\n",
       "dtype: object"
      ]
     },
     "execution_count": 23,
     "metadata": {},
     "output_type": "execute_result"
    }
   ],
   "source": [
    "df.dtypes"
   ]
  },
  {
   "cell_type": "code",
   "execution_count": 24,
   "id": "e95d1cfb",
   "metadata": {},
   "outputs": [
    {
     "data": {
      "text/html": [
       "<div>\n",
       "<style scoped>\n",
       "    .dataframe tbody tr th:only-of-type {\n",
       "        vertical-align: middle;\n",
       "    }\n",
       "\n",
       "    .dataframe tbody tr th {\n",
       "        vertical-align: top;\n",
       "    }\n",
       "\n",
       "    .dataframe thead th {\n",
       "        text-align: right;\n",
       "    }\n",
       "</style>\n",
       "<table border=\"1\" class=\"dataframe\">\n",
       "  <thead>\n",
       "    <tr style=\"text-align: right;\">\n",
       "      <th></th>\n",
       "      <th>Platform</th>\n",
       "      <th>Year_of_Release</th>\n",
       "      <th>Genre</th>\n",
       "      <th>NA_Sales</th>\n",
       "      <th>EU_Sales</th>\n",
       "      <th>JP_Sales</th>\n",
       "      <th>Critic_Score</th>\n",
       "      <th>Critic_Count</th>\n",
       "      <th>User_Score</th>\n",
       "      <th>Developer</th>\n",
       "      <th>Rating</th>\n",
       "      <th>Global_Sales</th>\n",
       "      <th>Source</th>\n",
       "    </tr>\n",
       "  </thead>\n",
       "  <tbody>\n",
       "    <tr>\n",
       "      <th>4313</th>\n",
       "      <td>X360</td>\n",
       "      <td>2008.0</td>\n",
       "      <td>4</td>\n",
       "      <td>0.30</td>\n",
       "      <td>0.11</td>\n",
       "      <td>0.00</td>\n",
       "      <td>69.0</td>\n",
       "      <td>54.0</td>\n",
       "      <td>70</td>\n",
       "      <td>999</td>\n",
       "      <td>1</td>\n",
       "      <td>0.45</td>\n",
       "      <td>Train</td>\n",
       "    </tr>\n",
       "    <tr>\n",
       "      <th>2323</th>\n",
       "      <td>GBA</td>\n",
       "      <td>2001.0</td>\n",
       "      <td>8</td>\n",
       "      <td>0.60</td>\n",
       "      <td>0.22</td>\n",
       "      <td>0.05</td>\n",
       "      <td>91.0</td>\n",
       "      <td>22.0</td>\n",
       "      <td>82</td>\n",
       "      <td>786</td>\n",
       "      <td>1</td>\n",
       "      <td>0.89</td>\n",
       "      <td>Train</td>\n",
       "    </tr>\n",
       "    <tr>\n",
       "      <th>3493</th>\n",
       "      <td>PSP</td>\n",
       "      <td>2005.0</td>\n",
       "      <td>6</td>\n",
       "      <td>0.53</td>\n",
       "      <td>0.00</td>\n",
       "      <td>0.00</td>\n",
       "      <td>63.0</td>\n",
       "      <td>32.0</td>\n",
       "      <td>75</td>\n",
       "      <td>299</td>\n",
       "      <td>0</td>\n",
       "      <td>0.57</td>\n",
       "      <td>Train</td>\n",
       "    </tr>\n",
       "    <tr>\n",
       "      <th>2238</th>\n",
       "      <td>PC</td>\n",
       "      <td>2012.0</td>\n",
       "      <td>4</td>\n",
       "      <td>0.42</td>\n",
       "      <td>0.41</td>\n",
       "      <td>0.00</td>\n",
       "      <td>89.0</td>\n",
       "      <td>38.0</td>\n",
       "      <td>79</td>\n",
       "      <td>599</td>\n",
       "      <td>2</td>\n",
       "      <td>0.93</td>\n",
       "      <td>Train</td>\n",
       "    </tr>\n",
       "    <tr>\n",
       "      <th>6756</th>\n",
       "      <td>Wii</td>\n",
       "      <td>2010.0</td>\n",
       "      <td>0</td>\n",
       "      <td>0.20</td>\n",
       "      <td>0.02</td>\n",
       "      <td>0.00</td>\n",
       "      <td>62.0</td>\n",
       "      <td>7.0</td>\n",
       "      <td>95</td>\n",
       "      <td>430</td>\n",
       "      <td>0</td>\n",
       "      <td>0.25</td>\n",
       "      <td>Train</td>\n",
       "    </tr>\n",
       "  </tbody>\n",
       "</table>\n",
       "</div>"
      ],
      "text/plain": [
       "     Platform  Year_of_Release  Genre  NA_Sales  EU_Sales  JP_Sales  \\\n",
       "4313     X360           2008.0      4      0.30      0.11      0.00   \n",
       "2323      GBA           2001.0      8      0.60      0.22      0.05   \n",
       "3493      PSP           2005.0      6      0.53      0.00      0.00   \n",
       "2238       PC           2012.0      4      0.42      0.41      0.00   \n",
       "6756      Wii           2010.0      0      0.20      0.02      0.00   \n",
       "\n",
       "      Critic_Score  Critic_Count  User_Score  Developer  Rating  Global_Sales  \\\n",
       "4313          69.0          54.0          70        999       1          0.45   \n",
       "2323          91.0          22.0          82        786       1          0.89   \n",
       "3493          63.0          32.0          75        299       0          0.57   \n",
       "2238          89.0          38.0          79        599       2          0.93   \n",
       "6756          62.0           7.0          95        430       0          0.25   \n",
       "\n",
       "     Source  \n",
       "4313  Train  \n",
       "2323  Train  \n",
       "3493  Train  \n",
       "2238  Train  \n",
       "6756  Train  "
      ]
     },
     "execution_count": 24,
     "metadata": {},
     "output_type": "execute_result"
    }
   ],
   "source": [
    "df.head()"
   ]
  },
  {
   "cell_type": "code",
   "execution_count": 25,
   "id": "5bb9a025",
   "metadata": {},
   "outputs": [
    {
     "data": {
      "text/plain": [
       "(16719, 13)"
      ]
     },
     "execution_count": 25,
     "metadata": {},
     "output_type": "execute_result"
    }
   ],
   "source": [
    "df.shape"
   ]
  },
  {
   "cell_type": "code",
   "execution_count": 26,
   "id": "2289c18b",
   "metadata": {},
   "outputs": [],
   "source": [
    "df2 = pd.get_dummies(df, drop_first = True)"
   ]
  },
  {
   "cell_type": "code",
   "execution_count": 27,
   "id": "08091aa7",
   "metadata": {},
   "outputs": [
    {
     "data": {
      "text/plain": [
       "(16719, 43)"
      ]
     },
     "execution_count": 27,
     "metadata": {},
     "output_type": "execute_result"
    }
   ],
   "source": [
    "df2.shape"
   ]
  },
  {
   "cell_type": "code",
   "execution_count": 28,
   "id": "1c3ecf3a",
   "metadata": {},
   "outputs": [
    {
     "name": "stderr",
     "output_type": "stream",
     "text": [
      "C:\\ProgramData\\Anaconda3\\lib\\site-packages\\statsmodels\\tsa\\tsatools.py:142: FutureWarning: In a future version of pandas all arguments of concat except for the argument 'objs' will be keyword-only\n",
      "  x = pd.concat(x[::order], 1)\n"
     ]
    }
   ],
   "source": [
    "df2 = add_constant(df2)"
   ]
  },
  {
   "cell_type": "code",
   "execution_count": 29,
   "id": "c877c71b",
   "metadata": {},
   "outputs": [
    {
     "data": {
      "text/html": [
       "<div>\n",
       "<style scoped>\n",
       "    .dataframe tbody tr th:only-of-type {\n",
       "        vertical-align: middle;\n",
       "    }\n",
       "\n",
       "    .dataframe tbody tr th {\n",
       "        vertical-align: top;\n",
       "    }\n",
       "\n",
       "    .dataframe thead th {\n",
       "        text-align: right;\n",
       "    }\n",
       "</style>\n",
       "<table border=\"1\" class=\"dataframe\">\n",
       "  <thead>\n",
       "    <tr style=\"text-align: right;\">\n",
       "      <th></th>\n",
       "      <th>const</th>\n",
       "      <th>Year_of_Release</th>\n",
       "      <th>Genre</th>\n",
       "      <th>NA_Sales</th>\n",
       "      <th>EU_Sales</th>\n",
       "      <th>JP_Sales</th>\n",
       "      <th>Critic_Score</th>\n",
       "      <th>Critic_Count</th>\n",
       "      <th>User_Score</th>\n",
       "      <th>Developer</th>\n",
       "      <th>...</th>\n",
       "      <th>Platform_SNES</th>\n",
       "      <th>Platform_TG16</th>\n",
       "      <th>Platform_WS</th>\n",
       "      <th>Platform_Wii</th>\n",
       "      <th>Platform_WiiU</th>\n",
       "      <th>Platform_X360</th>\n",
       "      <th>Platform_XB</th>\n",
       "      <th>Platform_XOne</th>\n",
       "      <th>Source_Test</th>\n",
       "      <th>Source_Train</th>\n",
       "    </tr>\n",
       "  </thead>\n",
       "  <tbody>\n",
       "    <tr>\n",
       "      <th>4313</th>\n",
       "      <td>1.0</td>\n",
       "      <td>2008.0</td>\n",
       "      <td>4</td>\n",
       "      <td>0.30</td>\n",
       "      <td>0.11</td>\n",
       "      <td>0.00</td>\n",
       "      <td>69.0</td>\n",
       "      <td>54.0</td>\n",
       "      <td>70</td>\n",
       "      <td>999</td>\n",
       "      <td>...</td>\n",
       "      <td>0</td>\n",
       "      <td>0</td>\n",
       "      <td>0</td>\n",
       "      <td>0</td>\n",
       "      <td>0</td>\n",
       "      <td>1</td>\n",
       "      <td>0</td>\n",
       "      <td>0</td>\n",
       "      <td>0</td>\n",
       "      <td>1</td>\n",
       "    </tr>\n",
       "    <tr>\n",
       "      <th>2323</th>\n",
       "      <td>1.0</td>\n",
       "      <td>2001.0</td>\n",
       "      <td>8</td>\n",
       "      <td>0.60</td>\n",
       "      <td>0.22</td>\n",
       "      <td>0.05</td>\n",
       "      <td>91.0</td>\n",
       "      <td>22.0</td>\n",
       "      <td>82</td>\n",
       "      <td>786</td>\n",
       "      <td>...</td>\n",
       "      <td>0</td>\n",
       "      <td>0</td>\n",
       "      <td>0</td>\n",
       "      <td>0</td>\n",
       "      <td>0</td>\n",
       "      <td>0</td>\n",
       "      <td>0</td>\n",
       "      <td>0</td>\n",
       "      <td>0</td>\n",
       "      <td>1</td>\n",
       "    </tr>\n",
       "    <tr>\n",
       "      <th>3493</th>\n",
       "      <td>1.0</td>\n",
       "      <td>2005.0</td>\n",
       "      <td>6</td>\n",
       "      <td>0.53</td>\n",
       "      <td>0.00</td>\n",
       "      <td>0.00</td>\n",
       "      <td>63.0</td>\n",
       "      <td>32.0</td>\n",
       "      <td>75</td>\n",
       "      <td>299</td>\n",
       "      <td>...</td>\n",
       "      <td>0</td>\n",
       "      <td>0</td>\n",
       "      <td>0</td>\n",
       "      <td>0</td>\n",
       "      <td>0</td>\n",
       "      <td>0</td>\n",
       "      <td>0</td>\n",
       "      <td>0</td>\n",
       "      <td>0</td>\n",
       "      <td>1</td>\n",
       "    </tr>\n",
       "    <tr>\n",
       "      <th>2238</th>\n",
       "      <td>1.0</td>\n",
       "      <td>2012.0</td>\n",
       "      <td>4</td>\n",
       "      <td>0.42</td>\n",
       "      <td>0.41</td>\n",
       "      <td>0.00</td>\n",
       "      <td>89.0</td>\n",
       "      <td>38.0</td>\n",
       "      <td>79</td>\n",
       "      <td>599</td>\n",
       "      <td>...</td>\n",
       "      <td>0</td>\n",
       "      <td>0</td>\n",
       "      <td>0</td>\n",
       "      <td>0</td>\n",
       "      <td>0</td>\n",
       "      <td>0</td>\n",
       "      <td>0</td>\n",
       "      <td>0</td>\n",
       "      <td>0</td>\n",
       "      <td>1</td>\n",
       "    </tr>\n",
       "    <tr>\n",
       "      <th>6756</th>\n",
       "      <td>1.0</td>\n",
       "      <td>2010.0</td>\n",
       "      <td>0</td>\n",
       "      <td>0.20</td>\n",
       "      <td>0.02</td>\n",
       "      <td>0.00</td>\n",
       "      <td>62.0</td>\n",
       "      <td>7.0</td>\n",
       "      <td>95</td>\n",
       "      <td>430</td>\n",
       "      <td>...</td>\n",
       "      <td>0</td>\n",
       "      <td>0</td>\n",
       "      <td>0</td>\n",
       "      <td>1</td>\n",
       "      <td>0</td>\n",
       "      <td>0</td>\n",
       "      <td>0</td>\n",
       "      <td>0</td>\n",
       "      <td>0</td>\n",
       "      <td>1</td>\n",
       "    </tr>\n",
       "  </tbody>\n",
       "</table>\n",
       "<p>5 rows × 44 columns</p>\n",
       "</div>"
      ],
      "text/plain": [
       "      const  Year_of_Release  Genre  NA_Sales  EU_Sales  JP_Sales  \\\n",
       "4313    1.0           2008.0      4      0.30      0.11      0.00   \n",
       "2323    1.0           2001.0      8      0.60      0.22      0.05   \n",
       "3493    1.0           2005.0      6      0.53      0.00      0.00   \n",
       "2238    1.0           2012.0      4      0.42      0.41      0.00   \n",
       "6756    1.0           2010.0      0      0.20      0.02      0.00   \n",
       "\n",
       "      Critic_Score  Critic_Count  User_Score  Developer  ...  Platform_SNES  \\\n",
       "4313          69.0          54.0          70        999  ...              0   \n",
       "2323          91.0          22.0          82        786  ...              0   \n",
       "3493          63.0          32.0          75        299  ...              0   \n",
       "2238          89.0          38.0          79        599  ...              0   \n",
       "6756          62.0           7.0          95        430  ...              0   \n",
       "\n",
       "      Platform_TG16  Platform_WS  Platform_Wii  Platform_WiiU  Platform_X360  \\\n",
       "4313              0            0             0              0              1   \n",
       "2323              0            0             0              0              0   \n",
       "3493              0            0             0              0              0   \n",
       "2238              0            0             0              0              0   \n",
       "6756              0            0             1              0              0   \n",
       "\n",
       "      Platform_XB  Platform_XOne  Source_Test  Source_Train  \n",
       "4313            0              0            0             1  \n",
       "2323            0              0            0             1  \n",
       "3493            0              0            0             1  \n",
       "2238            0              0            0             1  \n",
       "6756            0              0            0             1  \n",
       "\n",
       "[5 rows x 44 columns]"
      ]
     },
     "execution_count": 29,
     "metadata": {},
     "output_type": "execute_result"
    }
   ],
   "source": [
    "df2.head()"
   ]
  },
  {
   "cell_type": "code",
   "execution_count": 30,
   "id": "74b953da",
   "metadata": {},
   "outputs": [],
   "source": [
    "trainDf = df2[df2['Source_Train'] == 1].drop(['Source_Train', 'Source_Test'], axis = 1).copy()\n",
    "testDf = df2[df2['Source_Test'] == 1].drop(['Source_Train', 'Source_Test'], axis = 1).copy()\n",
    "prediction = df2[(df2['Source_Train'] == 0) & \n",
    "                        (df2['Source_Test'] == 0)].drop(['Source_Train', 'Source_Test'], axis = 1).copy()"
   ]
  },
  {
   "cell_type": "code",
   "execution_count": 31,
   "id": "06b0bc6b",
   "metadata": {},
   "outputs": [
    {
     "data": {
      "text/plain": [
       "(4373, 42)"
      ]
     },
     "execution_count": 31,
     "metadata": {},
     "output_type": "execute_result"
    }
   ],
   "source": [
    "testDf.shape"
   ]
  },
  {
   "cell_type": "code",
   "execution_count": 32,
   "id": "79c7a913",
   "metadata": {},
   "outputs": [
    {
     "data": {
      "text/plain": [
       "(10203, 42)"
      ]
     },
     "execution_count": 32,
     "metadata": {},
     "output_type": "execute_result"
    }
   ],
   "source": [
    "trainDf.shape"
   ]
  },
  {
   "cell_type": "code",
   "execution_count": 33,
   "id": "f3f4f39e",
   "metadata": {},
   "outputs": [
    {
     "data": {
      "text/plain": [
       "(2143, 42)"
      ]
     },
     "execution_count": 33,
     "metadata": {},
     "output_type": "execute_result"
    }
   ],
   "source": [
    "prediction.shape"
   ]
  },
  {
   "cell_type": "code",
   "execution_count": 34,
   "id": "32c16ee5",
   "metadata": {},
   "outputs": [
    {
     "data": {
      "text/plain": [
       "(2143, 16)"
      ]
     },
     "execution_count": 34,
     "metadata": {},
     "output_type": "execute_result"
    }
   ],
   "source": [
    "predictionDf.shape"
   ]
  },
  {
   "cell_type": "code",
   "execution_count": 36,
   "id": "b3b2500c",
   "metadata": {},
   "outputs": [],
   "source": [
    "trainX = trainDf.drop(['Global_Sales'], axis = 1)\n",
    "trainY = trainDf['Global_Sales']\n",
    "testX = testDf.drop(['Global_Sales'], axis = 1)\n",
    "testY = testDf['Global_Sales']\n",
    "pred = prediction.drop(['Global_Sales'],axis=1)"
   ]
  },
  {
   "cell_type": "code",
   "execution_count": 37,
   "id": "93ff611a",
   "metadata": {},
   "outputs": [
    {
     "data": {
      "text/html": [
       "<table class=\"simpletable\">\n",
       "<caption>OLS Regression Results</caption>\n",
       "<tr>\n",
       "  <th>Dep. Variable:</th>      <td>Global_Sales</td>   <th>  R-squared:         </th>  <td>   0.994</td> \n",
       "</tr>\n",
       "<tr>\n",
       "  <th>Model:</th>                   <td>OLS</td>       <th>  Adj. R-squared:    </th>  <td>   0.994</td> \n",
       "</tr>\n",
       "<tr>\n",
       "  <th>Method:</th>             <td>Least Squares</td>  <th>  F-statistic:       </th>  <td>4.018e+04</td>\n",
       "</tr>\n",
       "<tr>\n",
       "  <th>Date:</th>             <td>Thu, 05 May 2022</td> <th>  Prob (F-statistic):</th>   <td>  0.00</td>  \n",
       "</tr>\n",
       "<tr>\n",
       "  <th>Time:</th>                 <td>23:41:11</td>     <th>  Log-Likelihood:    </th>  <td>  6135.1</td> \n",
       "</tr>\n",
       "<tr>\n",
       "  <th>No. Observations:</th>      <td> 10203</td>      <th>  AIC:               </th> <td>-1.219e+04</td>\n",
       "</tr>\n",
       "<tr>\n",
       "  <th>Df Residuals:</th>          <td> 10162</td>      <th>  BIC:               </th> <td>-1.189e+04</td>\n",
       "</tr>\n",
       "<tr>\n",
       "  <th>Df Model:</th>              <td>    40</td>      <th>                     </th>      <td> </td>    \n",
       "</tr>\n",
       "<tr>\n",
       "  <th>Covariance Type:</th>      <td>nonrobust</td>    <th>                     </th>      <td> </td>    \n",
       "</tr>\n",
       "</table>\n",
       "<table class=\"simpletable\">\n",
       "<tr>\n",
       "         <td></td>            <th>coef</th>     <th>std err</th>      <th>t</th>      <th>P>|t|</th>  <th>[0.025</th>    <th>0.975]</th>  \n",
       "</tr>\n",
       "<tr>\n",
       "  <th>const</th>           <td>   -3.7185</td> <td>    1.099</td> <td>   -3.384</td> <td> 0.001</td> <td>   -5.872</td> <td>   -1.565</td>\n",
       "</tr>\n",
       "<tr>\n",
       "  <th>Year_of_Release</th> <td>    0.0018</td> <td>    0.001</td> <td>    3.318</td> <td> 0.001</td> <td>    0.001</td> <td>    0.003</td>\n",
       "</tr>\n",
       "<tr>\n",
       "  <th>Genre</th>           <td>   -0.0011</td> <td>    0.000</td> <td>   -2.994</td> <td> 0.003</td> <td>   -0.002</td> <td>   -0.000</td>\n",
       "</tr>\n",
       "<tr>\n",
       "  <th>NA_Sales</th>        <td>    1.0517</td> <td>    0.002</td> <td>  456.108</td> <td> 0.000</td> <td>    1.047</td> <td>    1.056</td>\n",
       "</tr>\n",
       "<tr>\n",
       "  <th>EU_Sales</th>        <td>    1.2048</td> <td>    0.004</td> <td>  311.305</td> <td> 0.000</td> <td>    1.197</td> <td>    1.212</td>\n",
       "</tr>\n",
       "<tr>\n",
       "  <th>JP_Sales</th>        <td>    0.9569</td> <td>    0.005</td> <td>  197.473</td> <td> 0.000</td> <td>    0.947</td> <td>    0.966</td>\n",
       "</tr>\n",
       "<tr>\n",
       "  <th>Critic_Score</th>    <td>    0.0007</td> <td>    0.000</td> <td>    4.286</td> <td> 0.000</td> <td>    0.000</td> <td>    0.001</td>\n",
       "</tr>\n",
       "<tr>\n",
       "  <th>Critic_Count</th>    <td>    0.0006</td> <td>    0.000</td> <td>    4.683</td> <td> 0.000</td> <td>    0.000</td> <td>    0.001</td>\n",
       "</tr>\n",
       "<tr>\n",
       "  <th>User_Score</th>      <td>   -0.0003</td> <td>    0.000</td> <td>   -2.587</td> <td> 0.010</td> <td>   -0.000</td> <td>-6.45e-05</td>\n",
       "</tr>\n",
       "<tr>\n",
       "  <th>Developer</th>       <td>-1.138e-06</td> <td>  2.9e-06</td> <td>   -0.392</td> <td> 0.695</td> <td>-6.83e-06</td> <td> 4.56e-06</td>\n",
       "</tr>\n",
       "<tr>\n",
       "  <th>Rating</th>          <td>    0.0034</td> <td>    0.002</td> <td>    2.228</td> <td> 0.026</td> <td>    0.000</td> <td>    0.006</td>\n",
       "</tr>\n",
       "<tr>\n",
       "  <th>Platform_3DO</th>    <td>    0.0322</td> <td>    0.095</td> <td>    0.338</td> <td> 0.736</td> <td>   -0.154</td> <td>    0.219</td>\n",
       "</tr>\n",
       "<tr>\n",
       "  <th>Platform_3DS</th>    <td>   -0.0158</td> <td>    0.022</td> <td>   -0.705</td> <td> 0.481</td> <td>   -0.060</td> <td>    0.028</td>\n",
       "</tr>\n",
       "<tr>\n",
       "  <th>Platform_DC</th>     <td>    0.0155</td> <td>    0.033</td> <td>    0.466</td> <td> 0.641</td> <td>   -0.050</td> <td>    0.081</td>\n",
       "</tr>\n",
       "<tr>\n",
       "  <th>Platform_DS</th>     <td>    0.0025</td> <td>    0.020</td> <td>    0.128</td> <td> 0.898</td> <td>   -0.036</td> <td>    0.041</td>\n",
       "</tr>\n",
       "<tr>\n",
       "  <th>Platform_GB</th>     <td>   -0.0151</td> <td>    0.023</td> <td>   -0.661</td> <td> 0.509</td> <td>   -0.060</td> <td>    0.030</td>\n",
       "</tr>\n",
       "<tr>\n",
       "  <th>Platform_GBA</th>    <td>   -0.0106</td> <td>    0.018</td> <td>   -0.576</td> <td> 0.565</td> <td>   -0.047</td> <td>    0.025</td>\n",
       "</tr>\n",
       "<tr>\n",
       "  <th>Platform_GC</th>     <td>   -0.0147</td> <td>    0.019</td> <td>   -0.770</td> <td> 0.441</td> <td>   -0.052</td> <td>    0.023</td>\n",
       "</tr>\n",
       "<tr>\n",
       "  <th>Platform_GEN</th>    <td>   -0.0358</td> <td>    0.036</td> <td>   -0.982</td> <td> 0.326</td> <td>   -0.107</td> <td>    0.036</td>\n",
       "</tr>\n",
       "<tr>\n",
       "  <th>Platform_GG</th>     <td>    0.0349</td> <td>    0.134</td> <td>    0.261</td> <td> 0.794</td> <td>   -0.227</td> <td>    0.297</td>\n",
       "</tr>\n",
       "<tr>\n",
       "  <th>Platform_N64</th>    <td>   -0.0141</td> <td>    0.019</td> <td>   -0.753</td> <td> 0.451</td> <td>   -0.051</td> <td>    0.023</td>\n",
       "</tr>\n",
       "<tr>\n",
       "  <th>Platform_NES</th>    <td>    0.0214</td> <td>    0.022</td> <td>    0.961</td> <td> 0.337</td> <td>   -0.022</td> <td>    0.065</td>\n",
       "</tr>\n",
       "<tr>\n",
       "  <th>Platform_NG</th>     <td>    0.0354</td> <td>    0.049</td> <td>    0.716</td> <td> 0.474</td> <td>   -0.061</td> <td>    0.132</td>\n",
       "</tr>\n",
       "<tr>\n",
       "  <th>Platform_PC</th>     <td>   -0.0281</td> <td>    0.020</td> <td>   -1.381</td> <td> 0.167</td> <td>   -0.068</td> <td>    0.012</td>\n",
       "</tr>\n",
       "<tr>\n",
       "  <th>Platform_PCFX</th>   <td>    0.0215</td> <td>    0.134</td> <td>    0.161</td> <td> 0.872</td> <td>   -0.241</td> <td>    0.284</td>\n",
       "</tr>\n",
       "<tr>\n",
       "  <th>Platform_PS</th>     <td>    0.0057</td> <td>    0.017</td> <td>    0.341</td> <td> 0.733</td> <td>   -0.027</td> <td>    0.038</td>\n",
       "</tr>\n",
       "<tr>\n",
       "  <th>Platform_PS2</th>    <td>    0.0533</td> <td>    0.018</td> <td>    2.913</td> <td> 0.004</td> <td>    0.017</td> <td>    0.089</td>\n",
       "</tr>\n",
       "<tr>\n",
       "  <th>Platform_PS3</th>    <td>    0.0202</td> <td>    0.021</td> <td>    0.972</td> <td> 0.331</td> <td>   -0.020</td> <td>    0.061</td>\n",
       "</tr>\n",
       "<tr>\n",
       "  <th>Platform_PS4</th>    <td>    0.0074</td> <td>    0.024</td> <td>    0.314</td> <td> 0.754</td> <td>   -0.039</td> <td>    0.054</td>\n",
       "</tr>\n",
       "<tr>\n",
       "  <th>Platform_PSP</th>    <td>    0.0178</td> <td>    0.020</td> <td>    0.895</td> <td> 0.371</td> <td>   -0.021</td> <td>    0.057</td>\n",
       "</tr>\n",
       "<tr>\n",
       "  <th>Platform_PSV</th>    <td>   -0.0072</td> <td>    0.023</td> <td>   -0.313</td> <td> 0.754</td> <td>   -0.052</td> <td>    0.038</td>\n",
       "</tr>\n",
       "<tr>\n",
       "  <th>Platform_SAT</th>    <td>    0.0319</td> <td>    0.021</td> <td>    1.504</td> <td> 0.133</td> <td>   -0.010</td> <td>    0.073</td>\n",
       "</tr>\n",
       "<tr>\n",
       "  <th>Platform_SCD</th>    <td>    0.0297</td> <td>    0.095</td> <td>    0.313</td> <td> 0.755</td> <td>   -0.157</td> <td>    0.216</td>\n",
       "</tr>\n",
       "<tr>\n",
       "  <th>Platform_SNES</th>   <td>    0.0290</td> <td>    0.019</td> <td>    1.546</td> <td> 0.122</td> <td>   -0.008</td> <td>    0.066</td>\n",
       "</tr>\n",
       "<tr>\n",
       "  <th>Platform_TG16</th>   <td>    0.0272</td> <td>    0.095</td> <td>    0.286</td> <td> 0.775</td> <td>   -0.159</td> <td>    0.214</td>\n",
       "</tr>\n",
       "<tr>\n",
       "  <th>Platform_WS</th>     <td>    0.0263</td> <td>    0.068</td> <td>    0.385</td> <td> 0.700</td> <td>   -0.108</td> <td>    0.161</td>\n",
       "</tr>\n",
       "<tr>\n",
       "  <th>Platform_Wii</th>    <td>   -0.0041</td> <td>    0.020</td> <td>   -0.205</td> <td> 0.838</td> <td>   -0.043</td> <td>    0.035</td>\n",
       "</tr>\n",
       "<tr>\n",
       "  <th>Platform_WiiU</th>   <td>   -0.0305</td> <td>    0.026</td> <td>   -1.186</td> <td> 0.236</td> <td>   -0.081</td> <td>    0.020</td>\n",
       "</tr>\n",
       "<tr>\n",
       "  <th>Platform_X360</th>   <td>   -0.0234</td> <td>    0.021</td> <td>   -1.136</td> <td> 0.256</td> <td>   -0.064</td> <td>    0.017</td>\n",
       "</tr>\n",
       "<tr>\n",
       "  <th>Platform_XB</th>     <td>   -0.0203</td> <td>    0.019</td> <td>   -1.087</td> <td> 0.277</td> <td>   -0.057</td> <td>    0.016</td>\n",
       "</tr>\n",
       "<tr>\n",
       "  <th>Platform_XOne</th>   <td>   -0.0340</td> <td>    0.024</td> <td>   -1.392</td> <td> 0.164</td> <td>   -0.082</td> <td>    0.014</td>\n",
       "</tr>\n",
       "</table>\n",
       "<table class=\"simpletable\">\n",
       "<tr>\n",
       "  <th>Omnibus:</th>       <td>30819.206</td> <th>  Durbin-Watson:     </th>    <td>   1.992</td>   \n",
       "</tr>\n",
       "<tr>\n",
       "  <th>Prob(Omnibus):</th>  <td> 0.000</td>   <th>  Jarque-Bera (JB):  </th> <td>4115541220.729</td>\n",
       "</tr>\n",
       "<tr>\n",
       "  <th>Skew:</th>           <td>44.197</td>   <th>  Prob(JB):          </th>    <td>    0.00</td>   \n",
       "</tr>\n",
       "<tr>\n",
       "  <th>Kurtosis:</th>      <td>3113.139</td>  <th>  Cond. No.          </th>    <td>1.93e+06</td>   \n",
       "</tr>\n",
       "</table><br/><br/>Notes:<br/>[1] Standard Errors assume that the covariance matrix of the errors is correctly specified.<br/>[2] The condition number is large, 1.93e+06. This might indicate that there are<br/>strong multicollinearity or other numerical problems."
      ],
      "text/plain": [
       "<class 'statsmodels.iolib.summary.Summary'>\n",
       "\"\"\"\n",
       "                            OLS Regression Results                            \n",
       "==============================================================================\n",
       "Dep. Variable:           Global_Sales   R-squared:                       0.994\n",
       "Model:                            OLS   Adj. R-squared:                  0.994\n",
       "Method:                 Least Squares   F-statistic:                 4.018e+04\n",
       "Date:                Thu, 05 May 2022   Prob (F-statistic):               0.00\n",
       "Time:                        23:41:11   Log-Likelihood:                 6135.1\n",
       "No. Observations:               10203   AIC:                        -1.219e+04\n",
       "Df Residuals:                   10162   BIC:                        -1.189e+04\n",
       "Df Model:                          40                                         \n",
       "Covariance Type:            nonrobust                                         \n",
       "===================================================================================\n",
       "                      coef    std err          t      P>|t|      [0.025      0.975]\n",
       "-----------------------------------------------------------------------------------\n",
       "const              -3.7185      1.099     -3.384      0.001      -5.872      -1.565\n",
       "Year_of_Release     0.0018      0.001      3.318      0.001       0.001       0.003\n",
       "Genre              -0.0011      0.000     -2.994      0.003      -0.002      -0.000\n",
       "NA_Sales            1.0517      0.002    456.108      0.000       1.047       1.056\n",
       "EU_Sales            1.2048      0.004    311.305      0.000       1.197       1.212\n",
       "JP_Sales            0.9569      0.005    197.473      0.000       0.947       0.966\n",
       "Critic_Score        0.0007      0.000      4.286      0.000       0.000       0.001\n",
       "Critic_Count        0.0006      0.000      4.683      0.000       0.000       0.001\n",
       "User_Score         -0.0003      0.000     -2.587      0.010      -0.000   -6.45e-05\n",
       "Developer       -1.138e-06    2.9e-06     -0.392      0.695   -6.83e-06    4.56e-06\n",
       "Rating              0.0034      0.002      2.228      0.026       0.000       0.006\n",
       "Platform_3DO        0.0322      0.095      0.338      0.736      -0.154       0.219\n",
       "Platform_3DS       -0.0158      0.022     -0.705      0.481      -0.060       0.028\n",
       "Platform_DC         0.0155      0.033      0.466      0.641      -0.050       0.081\n",
       "Platform_DS         0.0025      0.020      0.128      0.898      -0.036       0.041\n",
       "Platform_GB        -0.0151      0.023     -0.661      0.509      -0.060       0.030\n",
       "Platform_GBA       -0.0106      0.018     -0.576      0.565      -0.047       0.025\n",
       "Platform_GC        -0.0147      0.019     -0.770      0.441      -0.052       0.023\n",
       "Platform_GEN       -0.0358      0.036     -0.982      0.326      -0.107       0.036\n",
       "Platform_GG         0.0349      0.134      0.261      0.794      -0.227       0.297\n",
       "Platform_N64       -0.0141      0.019     -0.753      0.451      -0.051       0.023\n",
       "Platform_NES        0.0214      0.022      0.961      0.337      -0.022       0.065\n",
       "Platform_NG         0.0354      0.049      0.716      0.474      -0.061       0.132\n",
       "Platform_PC        -0.0281      0.020     -1.381      0.167      -0.068       0.012\n",
       "Platform_PCFX       0.0215      0.134      0.161      0.872      -0.241       0.284\n",
       "Platform_PS         0.0057      0.017      0.341      0.733      -0.027       0.038\n",
       "Platform_PS2        0.0533      0.018      2.913      0.004       0.017       0.089\n",
       "Platform_PS3        0.0202      0.021      0.972      0.331      -0.020       0.061\n",
       "Platform_PS4        0.0074      0.024      0.314      0.754      -0.039       0.054\n",
       "Platform_PSP        0.0178      0.020      0.895      0.371      -0.021       0.057\n",
       "Platform_PSV       -0.0072      0.023     -0.313      0.754      -0.052       0.038\n",
       "Platform_SAT        0.0319      0.021      1.504      0.133      -0.010       0.073\n",
       "Platform_SCD        0.0297      0.095      0.313      0.755      -0.157       0.216\n",
       "Platform_SNES       0.0290      0.019      1.546      0.122      -0.008       0.066\n",
       "Platform_TG16       0.0272      0.095      0.286      0.775      -0.159       0.214\n",
       "Platform_WS         0.0263      0.068      0.385      0.700      -0.108       0.161\n",
       "Platform_Wii       -0.0041      0.020     -0.205      0.838      -0.043       0.035\n",
       "Platform_WiiU      -0.0305      0.026     -1.186      0.236      -0.081       0.020\n",
       "Platform_X360      -0.0234      0.021     -1.136      0.256      -0.064       0.017\n",
       "Platform_XB        -0.0203      0.019     -1.087      0.277      -0.057       0.016\n",
       "Platform_XOne      -0.0340      0.024     -1.392      0.164      -0.082       0.014\n",
       "==============================================================================\n",
       "Omnibus:                    30819.206   Durbin-Watson:                   1.992\n",
       "Prob(Omnibus):                  0.000   Jarque-Bera (JB):       4115541220.729\n",
       "Skew:                          44.197   Prob(JB):                         0.00\n",
       "Kurtosis:                    3113.139   Cond. No.                     1.93e+06\n",
       "==============================================================================\n",
       "\n",
       "Notes:\n",
       "[1] Standard Errors assume that the covariance matrix of the errors is correctly specified.\n",
       "[2] The condition number is large, 1.93e+06. This might indicate that there are\n",
       "strong multicollinearity or other numerical problems.\n",
       "\"\"\""
      ]
     },
     "execution_count": 37,
     "metadata": {},
     "output_type": "execute_result"
    }
   ],
   "source": [
    "from statsmodels.api import OLS\n",
    "m1 = OLS(trainY, trainX) \n",
    "m1 = m1.fit()\n",
    "m1.summary()"
   ]
  },
  {
   "cell_type": "code",
   "execution_count": 36,
   "id": "852e365c",
   "metadata": {},
   "outputs": [],
   "source": [
    "Test_Pred = m1.predict(testX)"
   ]
  },
  {
   "cell_type": "code",
   "execution_count": 37,
   "id": "c51e12ab",
   "metadata": {},
   "outputs": [
    {
     "data": {
      "text/plain": [
       "const              0.000716\n",
       "Year_of_Release    0.000910\n",
       "Genre              0.002759\n",
       "NA_Sales           0.000000\n",
       "EU_Sales           0.000000\n",
       "JP_Sales           0.000000\n",
       "Critic_Score       0.000018\n",
       "Critic_Count       0.000003\n",
       "User_Score         0.009695\n",
       "Developer          0.695166\n",
       "Rating             0.025924\n",
       "Platform_3DO       0.735503\n",
       "Platform_3DS       0.480608\n",
       "Platform_DC        0.641247\n",
       "Platform_DS        0.898419\n",
       "Platform_GB        0.508769\n",
       "Platform_GBA       0.564859\n",
       "Platform_GC        0.441130\n",
       "Platform_GEN       0.325979\n",
       "Platform_GG        0.794381\n",
       "Platform_N64       0.451433\n",
       "Platform_NES       0.336508\n",
       "Platform_NG        0.473762\n",
       "Platform_PC        0.167328\n",
       "Platform_PCFX      0.872141\n",
       "Platform_PS        0.733156\n",
       "Platform_PS2       0.003586\n",
       "Platform_PS3       0.331233\n",
       "Platform_PS4       0.753874\n",
       "Platform_PSP       0.370971\n",
       "Platform_PSV       0.754456\n",
       "Platform_SAT       0.132584\n",
       "Platform_SCD       0.754634\n",
       "Platform_SNES      0.122089\n",
       "Platform_TG16      0.775223\n",
       "Platform_WS        0.700430\n",
       "Platform_Wii       0.837573\n",
       "Platform_WiiU      0.235526\n",
       "Platform_X360      0.255871\n",
       "Platform_XB        0.277189\n",
       "Platform_XOne      0.163970\n",
       "dtype: float64"
      ]
     },
     "execution_count": 37,
     "metadata": {},
     "output_type": "execute_result"
    }
   ],
   "source": [
    "m1.pvalues"
   ]
  },
  {
   "cell_type": "code",
   "execution_count": 38,
   "id": "dcc295dc",
   "metadata": {},
   "outputs": [
    {
     "name": "stdout",
     "output_type": "stream",
     "text": [
      "1\n",
      "Platform_DS 0.8984186504401386\n",
      "2\n",
      "Platform_PCFX 0.8821737583702507\n",
      "3\n",
      "Platform_GG 0.8032567277349931\n",
      "4\n",
      "Platform_TG16 0.7883107472232737\n",
      "5\n",
      "Platform_SCD 0.768075446665881\n",
      "6\n",
      "Platform_3DO 0.7498428365296688\n",
      "7\n",
      "Platform_WS 0.7189881261376562\n",
      "8\n",
      "Developer 0.6973791475110404\n",
      "9\n",
      "Platform_PS 0.668549563300415\n",
      "10\n",
      "Platform_DC 0.6965011894005888\n",
      "11\n",
      "Platform_PS4 0.6506690392900426\n",
      "12\n",
      "Platform_NG 0.513007141413956\n",
      "13\n",
      "Platform_NES 0.363353458372228\n",
      "14\n",
      "Platform_PSV 0.23704876507911404\n",
      "15\n",
      "Platform_Wii 0.2371194606403827\n",
      "16\n",
      "Platform_GEN 0.21348589057133727\n",
      "17\n",
      "Platform_GB 0.22318728257475035\n",
      "18\n"
     ]
    }
   ],
   "source": [
    "tempMaxPValue = 0.1\n",
    "maxPValueCutoff = 0.1\n",
    "trainXCopy = trainX.copy()\n",
    "counter = 1\n",
    "highPValueColumnNames = []\n",
    "\n",
    "\n",
    "while (tempMaxPValue >= maxPValueCutoff):\n",
    "    \n",
    "    print(counter)    \n",
    "    \n",
    "    tempModelDf = pd.DataFrame()    \n",
    "    Model = OLS(trainY, trainXCopy).fit()\n",
    "    tempModelDf['PValue'] = Model.pvalues\n",
    "    tempModelDf['Column_Name'] = trainXCopy.columns\n",
    "    tempModelDf.dropna(inplace=True) # If there is some calculation error resulting in NAs\n",
    "    tempColumnName = tempModelDf.sort_values([\"PValue\"], ascending = False).iloc[0,1]\n",
    "    tempMaxPValue = tempModelDf.sort_values([\"PValue\"], ascending = False).iloc[0,0]\n",
    "    \n",
    "    if (tempMaxPValue >= maxPValueCutoff): # This condition will ensure that ONLY columns having p-value lower than 0.1 are NOT dropped\n",
    "        print(tempColumnName, tempMaxPValue)    \n",
    "        trainXCopy = trainXCopy.drop(tempColumnName, axis = 1)    \n",
    "        highPValueColumnNames.append(tempColumnName)\n",
    "    \n",
    "    counter = counter + 1"
   ]
  },
  {
   "cell_type": "code",
   "execution_count": 39,
   "id": "862f8a52",
   "metadata": {},
   "outputs": [],
   "source": [
    "trainX = trainX.drop(highPValueColumnNames, axis = 1)\n",
    "testX = testX.drop(highPValueColumnNames, axis = 1)\n",
    "predictionDf1 = predictionDf.drop(highPValueColumnNames, axis = 1)"
   ]
  },
  {
   "cell_type": "code",
   "execution_count": 40,
   "id": "ff6c3091",
   "metadata": {},
   "outputs": [
    {
     "data": {
      "text/html": [
       "<table class=\"simpletable\">\n",
       "<caption>OLS Regression Results</caption>\n",
       "<tr>\n",
       "  <th>Dep. Variable:</th>      <td>Global_Sales</td>   <th>  R-squared:         </th>  <td>   0.994</td> \n",
       "</tr>\n",
       "<tr>\n",
       "  <th>Model:</th>                   <td>OLS</td>       <th>  Adj. R-squared:    </th>  <td>   0.994</td> \n",
       "</tr>\n",
       "<tr>\n",
       "  <th>Method:</th>             <td>Least Squares</td>  <th>  F-statistic:       </th>  <td>6.994e+04</td>\n",
       "</tr>\n",
       "<tr>\n",
       "  <th>Date:</th>             <td>Thu, 05 May 2022</td> <th>  Prob (F-statistic):</th>   <td>  0.00</td>  \n",
       "</tr>\n",
       "<tr>\n",
       "  <th>Time:</th>                 <td>23:21:04</td>     <th>  Log-Likelihood:    </th>  <td>  6131.0</td> \n",
       "</tr>\n",
       "<tr>\n",
       "  <th>No. Observations:</th>      <td> 10203</td>      <th>  AIC:               </th> <td>-1.221e+04</td>\n",
       "</tr>\n",
       "<tr>\n",
       "  <th>Df Residuals:</th>          <td> 10179</td>      <th>  BIC:               </th> <td>-1.204e+04</td>\n",
       "</tr>\n",
       "<tr>\n",
       "  <th>Df Model:</th>              <td>    23</td>      <th>                     </th>      <td> </td>    \n",
       "</tr>\n",
       "<tr>\n",
       "  <th>Covariance Type:</th>      <td>nonrobust</td>    <th>                     </th>      <td> </td>    \n",
       "</tr>\n",
       "</table>\n",
       "<table class=\"simpletable\">\n",
       "<tr>\n",
       "         <td></td>            <th>coef</th>     <th>std err</th>      <th>t</th>      <th>P>|t|</th>  <th>[0.025</th>    <th>0.975]</th>  \n",
       "</tr>\n",
       "<tr>\n",
       "  <th>const</th>           <td>   -3.2889</td> <td>    0.576</td> <td>   -5.711</td> <td> 0.000</td> <td>   -4.418</td> <td>   -2.160</td>\n",
       "</tr>\n",
       "<tr>\n",
       "  <th>Year_of_Release</th> <td>    0.0016</td> <td>    0.000</td> <td>    5.660</td> <td> 0.000</td> <td>    0.001</td> <td>    0.002</td>\n",
       "</tr>\n",
       "<tr>\n",
       "  <th>Genre</th>           <td>   -0.0011</td> <td>    0.000</td> <td>   -2.957</td> <td> 0.003</td> <td>   -0.002</td> <td>   -0.000</td>\n",
       "</tr>\n",
       "<tr>\n",
       "  <th>NA_Sales</th>        <td>    1.0514</td> <td>    0.002</td> <td>  460.530</td> <td> 0.000</td> <td>    1.047</td> <td>    1.056</td>\n",
       "</tr>\n",
       "<tr>\n",
       "  <th>EU_Sales</th>        <td>    1.2050</td> <td>    0.004</td> <td>  315.900</td> <td> 0.000</td> <td>    1.197</td> <td>    1.212</td>\n",
       "</tr>\n",
       "<tr>\n",
       "  <th>JP_Sales</th>        <td>    0.9574</td> <td>    0.005</td> <td>  207.308</td> <td> 0.000</td> <td>    0.948</td> <td>    0.966</td>\n",
       "</tr>\n",
       "<tr>\n",
       "  <th>Critic_Score</th>    <td>    0.0007</td> <td>    0.000</td> <td>    4.368</td> <td> 0.000</td> <td>    0.000</td> <td>    0.001</td>\n",
       "</tr>\n",
       "<tr>\n",
       "  <th>Critic_Count</th>    <td>    0.0006</td> <td>    0.000</td> <td>    4.768</td> <td> 0.000</td> <td>    0.000</td> <td>    0.001</td>\n",
       "</tr>\n",
       "<tr>\n",
       "  <th>User_Score</th>      <td>   -0.0003</td> <td> 9.78e-05</td> <td>   -2.859</td> <td> 0.004</td> <td>   -0.000</td> <td>-8.79e-05</td>\n",
       "</tr>\n",
       "<tr>\n",
       "  <th>Rating</th>          <td>    0.0034</td> <td>    0.002</td> <td>    2.250</td> <td> 0.024</td> <td>    0.000</td> <td>    0.006</td>\n",
       "</tr>\n",
       "<tr>\n",
       "  <th>Platform_3DS</th>    <td>   -0.0157</td> <td>    0.008</td> <td>   -1.921</td> <td> 0.055</td> <td>   -0.032</td> <td>    0.000</td>\n",
       "</tr>\n",
       "<tr>\n",
       "  <th>Platform_GBA</th>    <td>   -0.0123</td> <td>    0.006</td> <td>   -1.944</td> <td> 0.052</td> <td>   -0.025</td> <td> 9.98e-05</td>\n",
       "</tr>\n",
       "<tr>\n",
       "  <th>Platform_GC</th>     <td>   -0.0163</td> <td>    0.008</td> <td>   -2.082</td> <td> 0.037</td> <td>   -0.032</td> <td>   -0.001</td>\n",
       "</tr>\n",
       "<tr>\n",
       "  <th>Platform_N64</th>    <td>   -0.0172</td> <td>    0.010</td> <td>   -1.706</td> <td> 0.088</td> <td>   -0.037</td> <td>    0.003</td>\n",
       "</tr>\n",
       "<tr>\n",
       "  <th>Platform_PC</th>     <td>   -0.0287</td> <td>    0.006</td> <td>   -4.684</td> <td> 0.000</td> <td>   -0.041</td> <td>   -0.017</td>\n",
       "</tr>\n",
       "<tr>\n",
       "  <th>Platform_PS2</th>    <td>    0.0518</td> <td>    0.004</td> <td>   12.086</td> <td> 0.000</td> <td>    0.043</td> <td>    0.060</td>\n",
       "</tr>\n",
       "<tr>\n",
       "  <th>Platform_PS3</th>    <td>    0.0199</td> <td>    0.005</td> <td>    3.664</td> <td> 0.000</td> <td>    0.009</td> <td>    0.030</td>\n",
       "</tr>\n",
       "<tr>\n",
       "  <th>Platform_PSP</th>    <td>    0.0170</td> <td>    0.005</td> <td>    3.171</td> <td> 0.002</td> <td>    0.006</td> <td>    0.028</td>\n",
       "</tr>\n",
       "<tr>\n",
       "  <th>Platform_SAT</th>    <td>    0.0280</td> <td>    0.015</td> <td>    1.881</td> <td> 0.060</td> <td>   -0.001</td> <td>    0.057</td>\n",
       "</tr>\n",
       "<tr>\n",
       "  <th>Platform_SNES</th>   <td>    0.0246</td> <td>    0.012</td> <td>    2.106</td> <td> 0.035</td> <td>    0.002</td> <td>    0.048</td>\n",
       "</tr>\n",
       "<tr>\n",
       "  <th>Platform_WiiU</th>   <td>   -0.0304</td> <td>    0.015</td> <td>   -2.064</td> <td> 0.039</td> <td>   -0.059</td> <td>   -0.002</td>\n",
       "</tr>\n",
       "<tr>\n",
       "  <th>Platform_X360</th>   <td>   -0.0238</td> <td>    0.006</td> <td>   -4.109</td> <td> 0.000</td> <td>   -0.035</td> <td>   -0.012</td>\n",
       "</tr>\n",
       "<tr>\n",
       "  <th>Platform_XB</th>     <td>   -0.0218</td> <td>    0.007</td> <td>   -3.324</td> <td> 0.001</td> <td>   -0.035</td> <td>   -0.009</td>\n",
       "</tr>\n",
       "<tr>\n",
       "  <th>Platform_XOne</th>   <td>   -0.0333</td> <td>    0.011</td> <td>   -2.950</td> <td> 0.003</td> <td>   -0.055</td> <td>   -0.011</td>\n",
       "</tr>\n",
       "</table>\n",
       "<table class=\"simpletable\">\n",
       "<tr>\n",
       "  <th>Omnibus:</th>       <td>30815.411</td> <th>  Durbin-Watson:     </th>    <td>   1.991</td>   \n",
       "</tr>\n",
       "<tr>\n",
       "  <th>Prob(Omnibus):</th>  <td> 0.000</td>   <th>  Jarque-Bera (JB):  </th> <td>4109648741.952</td>\n",
       "</tr>\n",
       "<tr>\n",
       "  <th>Skew:</th>           <td>44.183</td>   <th>  Prob(JB):          </th>    <td>    0.00</td>   \n",
       "</tr>\n",
       "<tr>\n",
       "  <th>Kurtosis:</th>      <td>3110.911</td>  <th>  Cond. No.          </th>    <td>8.80e+05</td>   \n",
       "</tr>\n",
       "</table><br/><br/>Notes:<br/>[1] Standard Errors assume that the covariance matrix of the errors is correctly specified.<br/>[2] The condition number is large, 8.8e+05. This might indicate that there are<br/>strong multicollinearity or other numerical problems."
      ],
      "text/plain": [
       "<class 'statsmodels.iolib.summary.Summary'>\n",
       "\"\"\"\n",
       "                            OLS Regression Results                            \n",
       "==============================================================================\n",
       "Dep. Variable:           Global_Sales   R-squared:                       0.994\n",
       "Model:                            OLS   Adj. R-squared:                  0.994\n",
       "Method:                 Least Squares   F-statistic:                 6.994e+04\n",
       "Date:                Thu, 05 May 2022   Prob (F-statistic):               0.00\n",
       "Time:                        23:21:04   Log-Likelihood:                 6131.0\n",
       "No. Observations:               10203   AIC:                        -1.221e+04\n",
       "Df Residuals:                   10179   BIC:                        -1.204e+04\n",
       "Df Model:                          23                                         \n",
       "Covariance Type:            nonrobust                                         \n",
       "===================================================================================\n",
       "                      coef    std err          t      P>|t|      [0.025      0.975]\n",
       "-----------------------------------------------------------------------------------\n",
       "const              -3.2889      0.576     -5.711      0.000      -4.418      -2.160\n",
       "Year_of_Release     0.0016      0.000      5.660      0.000       0.001       0.002\n",
       "Genre              -0.0011      0.000     -2.957      0.003      -0.002      -0.000\n",
       "NA_Sales            1.0514      0.002    460.530      0.000       1.047       1.056\n",
       "EU_Sales            1.2050      0.004    315.900      0.000       1.197       1.212\n",
       "JP_Sales            0.9574      0.005    207.308      0.000       0.948       0.966\n",
       "Critic_Score        0.0007      0.000      4.368      0.000       0.000       0.001\n",
       "Critic_Count        0.0006      0.000      4.768      0.000       0.000       0.001\n",
       "User_Score         -0.0003   9.78e-05     -2.859      0.004      -0.000   -8.79e-05\n",
       "Rating              0.0034      0.002      2.250      0.024       0.000       0.006\n",
       "Platform_3DS       -0.0157      0.008     -1.921      0.055      -0.032       0.000\n",
       "Platform_GBA       -0.0123      0.006     -1.944      0.052      -0.025    9.98e-05\n",
       "Platform_GC        -0.0163      0.008     -2.082      0.037      -0.032      -0.001\n",
       "Platform_N64       -0.0172      0.010     -1.706      0.088      -0.037       0.003\n",
       "Platform_PC        -0.0287      0.006     -4.684      0.000      -0.041      -0.017\n",
       "Platform_PS2        0.0518      0.004     12.086      0.000       0.043       0.060\n",
       "Platform_PS3        0.0199      0.005      3.664      0.000       0.009       0.030\n",
       "Platform_PSP        0.0170      0.005      3.171      0.002       0.006       0.028\n",
       "Platform_SAT        0.0280      0.015      1.881      0.060      -0.001       0.057\n",
       "Platform_SNES       0.0246      0.012      2.106      0.035       0.002       0.048\n",
       "Platform_WiiU      -0.0304      0.015     -2.064      0.039      -0.059      -0.002\n",
       "Platform_X360      -0.0238      0.006     -4.109      0.000      -0.035      -0.012\n",
       "Platform_XB        -0.0218      0.007     -3.324      0.001      -0.035      -0.009\n",
       "Platform_XOne      -0.0333      0.011     -2.950      0.003      -0.055      -0.011\n",
       "==============================================================================\n",
       "Omnibus:                    30815.411   Durbin-Watson:                   1.991\n",
       "Prob(Omnibus):                  0.000   Jarque-Bera (JB):       4109648741.952\n",
       "Skew:                          44.183   Prob(JB):                         0.00\n",
       "Kurtosis:                    3110.911   Cond. No.                     8.80e+05\n",
       "==============================================================================\n",
       "\n",
       "Notes:\n",
       "[1] Standard Errors assume that the covariance matrix of the errors is correctly specified.\n",
       "[2] The condition number is large, 8.8e+05. This might indicate that there are\n",
       "strong multicollinearity or other numerical problems.\n",
       "\"\"\""
      ]
     },
     "execution_count": 40,
     "metadata": {},
     "output_type": "execute_result"
    }
   ],
   "source": [
    "Model = OLS(trainY, trainX).fit()\n",
    "Model.summary()"
   ]
  },
  {
   "cell_type": "code",
   "execution_count": 41,
   "id": "2e50692f",
   "metadata": {},
   "outputs": [
    {
     "data": {
      "text/plain": [
       "Index(['const', 'Year_of_Release', 'Genre', 'NA_Sales', 'EU_Sales', 'JP_Sales',\n",
       "       'Critic_Score', 'Critic_Count', 'User_Score', 'Rating', 'Platform_3DS',\n",
       "       'Platform_GBA', 'Platform_GC', 'Platform_N64', 'Platform_PC',\n",
       "       'Platform_PS2', 'Platform_PS3', 'Platform_PSP', 'Platform_SAT',\n",
       "       'Platform_SNES', 'Platform_WiiU', 'Platform_X360', 'Platform_XB',\n",
       "       'Platform_XOne'],\n",
       "      dtype='object')"
      ]
     },
     "execution_count": 41,
     "metadata": {},
     "output_type": "execute_result"
    }
   ],
   "source": [
    "testX.columns"
   ]
  },
  {
   "cell_type": "code",
   "execution_count": 42,
   "id": "4d1186c9",
   "metadata": {},
   "outputs": [],
   "source": [
    "Test_Pred2 = Model.predict(testX)"
   ]
  },
  {
   "cell_type": "code",
   "execution_count": 43,
   "id": "9fa5756d",
   "metadata": {},
   "outputs": [
    {
     "data": {
      "text/plain": [
       "0.017345252854874163"
      ]
     },
     "execution_count": 43,
     "metadata": {},
     "output_type": "execute_result"
    }
   ],
   "source": [
    "rmse(testY,Test_Pred2)"
   ]
  },
  {
   "cell_type": "code",
   "execution_count": 44,
   "id": "364b910f",
   "metadata": {},
   "outputs": [
    {
     "data": {
      "text/plain": [
       "0.3063832255144268"
      ]
     },
     "execution_count": 44,
     "metadata": {},
     "output_type": "execute_result"
    }
   ],
   "source": [
    "mape(testY,Test_Pred2)"
   ]
  },
  {
   "cell_type": "code",
   "execution_count": 38,
   "id": "e8849e8e",
   "metadata": {},
   "outputs": [],
   "source": [
    "M1 = DecisionTreeRegressor(random_state = 5467).fit(trainX, trainY) # Indep, Dep\n",
    "testPrediction = M1.predict(testX)"
   ]
  },
  {
   "cell_type": "code",
   "execution_count": 39,
   "id": "1b64b6e0",
   "metadata": {},
   "outputs": [],
   "source": [
    "Test_Pred3 = M1.predict(testX)"
   ]
  },
  {
   "cell_type": "code",
   "execution_count": 40,
   "id": "128af72e",
   "metadata": {},
   "outputs": [
    {
     "data": {
      "text/plain": [
       "0.09320738891640842"
      ]
     },
     "execution_count": 40,
     "metadata": {},
     "output_type": "execute_result"
    }
   ],
   "source": [
    "mape(testY,Test_Pred3)"
   ]
  },
  {
   "cell_type": "code",
   "execution_count": 41,
   "id": "b4fea723",
   "metadata": {},
   "outputs": [
    {
     "data": {
      "text/plain": [
       "0.11815149211067918"
      ]
     },
     "execution_count": 41,
     "metadata": {},
     "output_type": "execute_result"
    }
   ],
   "source": [
    "rmse(testY,Test_Pred3)"
   ]
  },
  {
   "cell_type": "code",
   "execution_count": 42,
   "id": "7c83cf75",
   "metadata": {},
   "outputs": [],
   "source": [
    "m2=RandomForestRegressor(random_state=2341).fit(trainX,trainY)\n",
    "testprediction=m2.predict(testX)"
   ]
  },
  {
   "cell_type": "code",
   "execution_count": 43,
   "id": "7751da67",
   "metadata": {},
   "outputs": [],
   "source": [
    "Test_Pred4 = m2.predict(testX)"
   ]
  },
  {
   "cell_type": "code",
   "execution_count": 44,
   "id": "ce6d246e",
   "metadata": {},
   "outputs": [
    {
     "data": {
      "text/plain": [
       "0.06997194130319796"
      ]
     },
     "execution_count": 44,
     "metadata": {},
     "output_type": "execute_result"
    }
   ],
   "source": [
    "mape(testY,Test_Pred4)"
   ]
  },
  {
   "cell_type": "code",
   "execution_count": 45,
   "id": "2aa8c7ec",
   "metadata": {},
   "outputs": [
    {
     "data": {
      "text/plain": [
       "0.08450936131521651"
      ]
     },
     "execution_count": 45,
     "metadata": {},
     "output_type": "execute_result"
    }
   ],
   "source": [
    "rmse(testY,Test_Pred4)"
   ]
  },
  {
   "cell_type": "code",
   "execution_count": null,
   "id": "eb88c837",
   "metadata": {},
   "outputs": [],
   "source": []
  },
  {
   "cell_type": "code",
   "execution_count": null,
   "id": "1ce17199",
   "metadata": {},
   "outputs": [],
   "source": []
  },
  {
   "cell_type": "code",
   "execution_count": null,
   "id": "5d27cfce",
   "metadata": {},
   "outputs": [],
   "source": []
  },
  {
   "cell_type": "code",
   "execution_count": null,
   "id": "946089d3",
   "metadata": {},
   "outputs": [],
   "source": []
  },
  {
   "cell_type": "code",
   "execution_count": null,
   "id": "dd8f4d0a",
   "metadata": {},
   "outputs": [],
   "source": []
  },
  {
   "cell_type": "code",
   "execution_count": null,
   "id": "f3f3b970",
   "metadata": {},
   "outputs": [],
   "source": []
  },
  {
   "cell_type": "code",
   "execution_count": null,
   "id": "62cd194f",
   "metadata": {},
   "outputs": [],
   "source": []
  },
  {
   "cell_type": "code",
   "execution_count": null,
   "id": "ab5cffb1",
   "metadata": {},
   "outputs": [],
   "source": []
  },
  {
   "cell_type": "code",
   "execution_count": null,
   "id": "1c109c2f",
   "metadata": {},
   "outputs": [],
   "source": []
  }
 ],
 "metadata": {
  "kernelspec": {
   "display_name": "Python 3 (ipykernel)",
   "language": "python",
   "name": "python3"
  },
  "language_info": {
   "codemirror_mode": {
    "name": "ipython",
    "version": 3
   },
   "file_extension": ".py",
   "mimetype": "text/x-python",
   "name": "python",
   "nbconvert_exporter": "python",
   "pygments_lexer": "ipython3",
   "version": "3.9.7"
  }
 },
 "nbformat": 4,
 "nbformat_minor": 5
}
